{
  "nbformat": 4,
  "nbformat_minor": 0,
  "metadata": {
    "colab": {
      "private_outputs": true,
      "provenance": [],
      "authorship_tag": "ABX9TyOVsfIdb3iXuc8aBrajgVzd",
      "include_colab_link": true
    },
    "kernelspec": {
      "name": "python3",
      "display_name": "Python 3"
    },
    "language_info": {
      "name": "python"
    },
    "gpuClass": "standard"
  },
  "cells": [
    {
      "cell_type": "markdown",
      "metadata": {
        "id": "view-in-github",
        "colab_type": "text"
      },
      "source": [
        "<a href=\"https://colab.research.google.com/github/javmohir/malumotlarga_ishlov_berish/blob/main/replace_rename_.ipynb\" target=\"_parent\"><img src=\"https://colab.research.google.com/assets/colab-badge.svg\" alt=\"Open In Colab\"/></a>"
      ]
    },
    {
      "cell_type": "code",
      "source": [
        "import pandas as pd"
      ],
      "metadata": {
        "id": "OS-YJSMhcl-D"
      },
      "execution_count": null,
      "outputs": []
    },
    {
      "cell_type": "markdown",
      "source": [
        "Yuqoridagi o'zgarishlarni saqlab qolish uchun har doimgidek inplace=True parametridan foydalanishingiz mumkin.\n",
        "\n",
        ".map() metodi yordamida qiymatlarni almashtirish"
      ],
      "metadata": {
        "id": "JODI_U-seshB"
      }
    },
    {
      "cell_type": "markdown",
      "source": [
        "Ushbu metod yordamida biz qatorlardagi qiymatlarni ma'lumo qoida bo'yicha o'zgartirishimiz mumkin.\n",
        "\n",
        "Quyidagi jadvalni olaylik:"
      ],
      "metadata": {
        "id": "hPSZ2pVheuTR"
      }
    },
    {
      "cell_type": "code",
      "source": [
        "df = pd.read_csv(\"https://github.com/anvarnarz/praktikum_datasets/raw/main/automobile_data_nan.csv\", index_col=0)\n",
        "df.head()"
      ],
      "metadata": {
        "id": "oveHxKVoekGT"
      },
      "execution_count": null,
      "outputs": []
    },
    {
      "cell_type": "markdown",
      "source": [
        "num-of-cylinders ustunida qiymatlar son emas harf bilan yozilga. Keling shu qiymatlarni songa o'zgartiramiz.\n",
        "\n",
        "Avvalo bu ustundagi barcha mavjud qiymatlarni ko'raylik:"
      ],
      "metadata": {
        "id": "AmmjbKsGfFAW"
      }
    },
    {
      "cell_type": "code",
      "source": [
        "df['num-of-cylinders'].unique()"
      ],
      "metadata": {
        "id": "MiXHO90ffBJC"
      },
      "execution_count": null,
      "outputs": []
    },
    {
      "cell_type": "markdown",
      "source": [
        "Keling endi yuqoridagi qiymatlar uchun dictionary obyekti yaratamiz:"
      ],
      "metadata": {
        "id": "4_7yl4MifVLK"
      }
    },
    {
      "cell_type": "code",
      "source": [
        "dict={'two':2, 'three':3, 'four':4, 'five':5, 'six':6, 'eight':8, 'twelve':12}"
      ],
      "metadata": {
        "id": "bPc4XUatfPx_"
      },
      "execution_count": null,
      "outputs": []
    },
    {
      "cell_type": "markdown",
      "source": [
        ".map() yordamida yuqoridagi qiymatlarni df ga yangi cylinders deb nomlangan ustun ko'rinishida qo'shamiz:"
      ],
      "metadata": {
        "id": "8yZNo_a4fk_1"
      }
    },
    {
      "cell_type": "code",
      "source": [
        "df['cylinders']=df['num-of-cylinders'].map(dict)"
      ],
      "metadata": {
        "id": "3AH5d8k0fdw0"
      },
      "execution_count": null,
      "outputs": []
    },
    {
      "cell_type": "code",
      "source": [
        "df.head()"
      ],
      "metadata": {
        "id": "3TQfzr56f2or"
      },
      "execution_count": null,
      "outputs": []
    },
    {
      "cell_type": "markdown",
      "source": [
        "Oxirgi ustunga ahamiyat bering. Keling avvalgi va yangi ustunlarni yonma-yon chiqaramiz:\n",
        "\n"
      ],
      "metadata": {
        "id": "hKKH3rkOgGoj"
      }
    },
    {
      "cell_type": "code",
      "source": [
        "df[['num-of-cylinders','cylinders']]"
      ],
      "metadata": {
        "id": "aYHBjJMMf7L4"
      },
      "execution_count": null,
      "outputs": []
    },
    {
      "cell_type": "markdown",
      "source": [
        ".map() yordamida ustun qiymatlariga boshqa funksiyalarni ham qo'llash mumkin. Misol uchun, keling mashina narxlarini so'mdagi qiymatini topamiz:"
      ],
      "metadata": {
        "id": "gxPSkfYzgZrr"
      }
    },
    {
      "cell_type": "code",
      "source": [
        "kurs=10720 # 1$=10720 so'm\n",
        "df.price.map(lambda x: x*kurs)"
      ],
      "metadata": {
        "id": "SfqKEbXEgai_"
      },
      "execution_count": null,
      "outputs": []
    },
    {
      "cell_type": "code",
      "source": [
        "df['price_uz']=df['price'].map(lambda x: x*kurs)\n",
        "df.head()"
      ],
      "metadata": {
        "id": "z-Zcuv85g2Dr"
      },
      "execution_count": null,
      "outputs": []
    },
    {
      "cell_type": "markdown",
      "source": [
        ".replace() Qiymatlarni almashtirish.\n",
        "Qiymatlarni almashtirishning yana bir usuli bu .replace() metodi."
      ],
      "metadata": {
        "id": "7fnGxr0SiHSP"
      }
    },
    {
      "cell_type": "code",
      "source": [
        "df.head()"
      ],
      "metadata": {
        "id": "4Zye-pDxiop0"
      },
      "execution_count": null,
      "outputs": []
    },
    {
      "cell_type": "code",
      "source": [
        "df.replace('four',4)"
      ],
      "metadata": {
        "id": "1KGwY04miIuz"
      },
      "execution_count": null,
      "outputs": []
    },
    {
      "cell_type": "code",
      "source": [
        "df.replace(['four','six'],[4,6])"
      ],
      "metadata": {
        "id": "q3VQcjWHirGe"
      },
      "execution_count": null,
      "outputs": []
    },
    {
      "cell_type": "code",
      "source": [
        "df.replace({'five':5,'six':6})"
      ],
      "metadata": {
        "id": "df4vwIGli6Gi"
      },
      "execution_count": null,
      "outputs": []
    },
    {
      "cell_type": "markdown",
      "source": [
        "Indeks va Ustun qiymatlarini o'zgartirish"
      ],
      "metadata": {
        "id": "BEjmPBlVjeSO"
      }
    },
    {
      "cell_type": "code",
      "source": [
        "df2 = pd.read_csv('https://raw.githubusercontent.com/anvarnarz/praktikum_datasets/main/world_population_duplicates.csv', index_col='country')\n"
      ],
      "metadata": {
        "id": "0iGVcjnEjVEi"
      },
      "execution_count": null,
      "outputs": []
    },
    {
      "cell_type": "code",
      "source": [
        "df2.head()"
      ],
      "metadata": {
        "id": "79Km4U5jjjWr"
      },
      "execution_count": null,
      "outputs": []
    },
    {
      "cell_type": "markdown",
      "source": [
        ".rename() metodi yordamida indeks yoki ustunlar nomiga ham o'zgartirish kiritishmiz mumkin.\n",
        "\n",
        "Quyidagi misolda indeks va ustun nomlarini katta harflar bilan yozamiz:"
      ],
      "metadata": {
        "id": "0KajXiNBjtQ8"
      }
    },
    {
      "cell_type": "code",
      "source": [
        "df2.rename(index=str.upper, columns=str.upper) #  # Har doimngidek o'zgarishlarni saqlab qolish uchun inplace=True qilishingiz mumkin"
      ],
      "metadata": {
        "id": "2aBA3WtkjmVf"
      },
      "execution_count": null,
      "outputs": []
    },
    {
      "cell_type": "markdown",
      "source": [
        "Bu metod yordamida ustun yoki indeks nomini ham o'zgartirishimiz mumkin."
      ],
      "metadata": {
        "id": "wnCLUHf3kS5s"
      }
    },
    {
      "cell_type": "code",
      "source": [
        "df2.rename(index={'Macau':'Makao'},columns={'pop2021':'population'})"
      ],
      "metadata": {
        "id": "AFR8keYrkOaM"
      },
      "execution_count": null,
      "outputs": []
    },
    {
      "cell_type": "code",
      "source": [
        "df2.rename(columns=str.upper)"
      ],
      "metadata": {
        "id": "1T3CV-YmlHm5"
      },
      "execution_count": null,
      "outputs": []
    },
    {
      "cell_type": "code",
      "source": [],
      "metadata": {
        "id": "L4cbFur8ljd8"
      },
      "execution_count": null,
      "outputs": []
    }
  ]
}