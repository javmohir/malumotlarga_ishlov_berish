{
  "nbformat": 4,
  "nbformat_minor": 0,
  "metadata": {
    "colab": {
      "private_outputs": true,
      "provenance": [],
      "authorship_tag": "ABX9TyNcLPMMIQZf3btHvbb1sP6e",
      "include_colab_link": true
    },
    "kernelspec": {
      "name": "python3",
      "display_name": "Python 3"
    },
    "language_info": {
      "name": "python"
    },
    "gpuClass": "standard"
  },
  "cells": [
    {
      "cell_type": "markdown",
      "metadata": {
        "id": "view-in-github",
        "colab_type": "text"
      },
      "source": [
        "<a href=\"https://colab.research.google.com/github/javmohir/malumotlarga_ishlov_berish/blob/main/Tartiblash_filtrlash.ipynb\" target=\"_parent\"><img src=\"https://colab.research.google.com/assets/colab-badge.svg\" alt=\"Open In Colab\"/></a>"
      ]
    },
    {
      "cell_type": "code",
      "source": [
        "import pandas as pd\n",
        "import sqlite3 as sql\n",
        "from pprint import pprint as print # natijalarni chiroyli chiqarish uchun pprint modulidan foydalanamiz"
      ],
      "metadata": {
        "id": "gZsNf6sDFqim"
      },
      "execution_count": null,
      "outputs": []
    },
    {
      "cell_type": "markdown",
      "source": [
        "ORDER BY\n"
      ],
      "metadata": {
        "id": "uqo0L68VHsAX"
      }
    },
    {
      "cell_type": "code",
      "source": [
        "!wget \"https://www.sqlitetutorial.net/wp-content/uploads/2018/03/chinook.zip\"\n",
        "\n",
        "\n"
      ],
      "metadata": {
        "id": "8mJYxLCkT7YJ"
      },
      "execution_count": null,
      "outputs": []
    },
    {
      "cell_type": "code",
      "source": [
        "!unzip chinook.zip"
      ],
      "metadata": {
        "id": "u4ak2edDAcnr"
      },
      "execution_count": null,
      "outputs": []
    },
    {
      "cell_type": "code",
      "source": [
        "db=sql.connect(\"chinook.db\")\n",
        "cursor=db.cursor()"
      ],
      "metadata": {
        "id": "xEInG6FmUqod"
      },
      "execution_count": null,
      "outputs": []
    },
    {
      "cell_type": "code",
      "source": [
        "#cursor.execute(\"SELECT name FROM sqlite_master WHERE type='table';\")\n",
        "#print(cursor.fetchall())\n",
        "cursor.execute(\"SELECT name FROM sqlite_master WHERE type='table';\")\n",
        "print(cursor.fetchall())"
      ],
      "metadata": {
        "id": "Tnb6rhfLCWw7"
      },
      "execution_count": null,
      "outputs": []
    },
    {
      "cell_type": "code",
      "source": [
        "df=pd.read_sql(\"SELECT * FROM customers\", db, index_col='CustomerId')\n",
        "df.head()"
      ],
      "metadata": {
        "id": "q-SbL2YJIpxO"
      },
      "execution_count": null,
      "outputs": []
    },
    {
      "cell_type": "code",
      "source": [
        "df=pd.read_sql(\"SELECT CustomerId, FirstName, LastName,Phone, Country, State  FROM customers ORDER BY Country\", db, index_col='CustomerId') #  CustomerId ustunidan DF Indeksi sifatida foydalanamiz\n",
        "df.head()"
      ],
      "metadata": {
        "id": "37kkCpBlDX7p"
      },
      "execution_count": null,
      "outputs": []
    },
    {
      "cell_type": "code",
      "source": [
        "query=\"SELECT CustomerId, FirstName, LastName, Phone, State, Country FROM customers ORDER BY FirstName\"\n",
        "df=pd.read_sql(query, db, index_col='CustomerId')\n",
        "df"
      ],
      "metadata": {
        "id": "wFmw2o0YHR-6"
      },
      "execution_count": null,
      "outputs": []
    },
    {
      "cell_type": "markdown",
      "source": [
        "Noyob (DISTINCT) qiymatlarni ko'rish\n",
        "Misol uchun jadvaldagi barcha mavjud davlatlarni ko'rish uchun DISTINCT buyrug'idan foydalanamiz."
      ],
      "metadata": {
        "id": "lgXQT2FoMD1N"
      }
    },
    {
      "cell_type": "code",
      "source": [
        "query=\"SELECT DISTINCT Country FROM customers\" # Country dan takrorlanmas qiymatlarni olish\n",
        "cursor.execute(query)                          # DISTINCT yordamida\n",
        "cursor.fetchall()"
      ],
      "metadata": {
        "id": "E4As4mHvLNBl"
      },
      "execution_count": null,
      "outputs": []
    },
    {
      "cell_type": "code",
      "source": [
        "coun=pd.read_sql(query, db)\n",
        "coun"
      ],
      "metadata": {
        "id": "w4dTKMtJL9Oe"
      },
      "execution_count": null,
      "outputs": []
    },
    {
      "cell_type": "code",
      "source": [
        "obj=coun['Country']\n",
        "obj"
      ],
      "metadata": {
        "id": "lrlkHrrkOW-9"
      },
      "execution_count": null,
      "outputs": []
    },
    {
      "cell_type": "code",
      "source": [
        "# Ma'lumotlarni biror ustun bo'yicha kamayish tartyibida olish\n",
        "query = \"SELECT * FROM customers ORDER BY Country DESC\"\n",
        "df = pd.read_sql(query, db, index_col=\"CustomerId\")\n",
        "df.head(10)"
      ],
      "metadata": {
        "id": "TfrcGCHUMhNT"
      },
      "execution_count": null,
      "outputs": []
    },
    {
      "cell_type": "code",
      "source": [
        "\n",
        "komanda=\"SELECT * FROM customers ORDER BY Country DESC\"\n",
        "df=pd.read_sql(komanda, db, index_col='CustomerId')\n",
        "df.head()"
      ],
      "metadata": {
        "id": "LFfSR5tdM-yu"
      },
      "execution_count": null,
      "outputs": []
    },
    {
      "cell_type": "markdown",
      "source": [
        "WHERE yordamida filtrlash\n",
        "Ma'lumotlarni ombordan olishda turli shartlar yordamida filtlashimiz mumkin"
      ],
      "metadata": {
        "id": "AqGIcV5IOrHZ"
      }
    },
    {
      "cell_type": "code",
      "source": [
        "last='SELECT * FROM customers WHERE country=\"USA\"'\n",
        "pd.read_sql(last, db, index_col='CustomerId')"
      ],
      "metadata": {
        "id": "BAWR4w2cOrvx"
      },
      "execution_count": null,
      "outputs": []
    },
    {
      "cell_type": "code",
      "source": [
        "query='SELECT * FROM customers WHERE Country=\"Canada\"'\n",
        "pd.read_sql(query, db, index_col='CustomerId')"
      ],
      "metadata": {
        "id": "m6lCS8OyNkWz"
      },
      "execution_count": null,
      "outputs": []
    },
    {
      "cell_type": "code",
      "source": [
        "last='SELECT * FROM customers WHERE country=\"Italy\" OR country=\"Portugal\"'\n",
        "pd.read_sql(last, db, index_col='CustomerId')"
      ],
      "metadata": {
        "id": "XxPd9M8US1NQ"
      },
      "execution_count": null,
      "outputs": []
    },
    {
      "cell_type": "code",
      "source": [
        "query='SELECT * FROM customers WHERE country=\"Germany\" OR country=\"Brazil\" ORDER BY Country'\n",
        "pd.read_sql(query, db, index_col='CustomerId')"
      ],
      "metadata": {
        "id": "l0XlmBwnS9qn"
      },
      "execution_count": null,
      "outputs": []
    },
    {
      "cell_type": "code",
      "source": [
        "query='SELECT * FROM customers WHERE country=\"USA\" AND State=\"CA\" ORDER BY City'\n",
        "pd.read_sql(query, db, index_col='CustomerId')"
      ],
      "metadata": {
        "id": "5pXIzElzU7E5"
      },
      "execution_count": null,
      "outputs": []
    },
    {
      "cell_type": "code",
      "source": [],
      "metadata": {
        "id": "WbHoxscEW-VZ"
      },
      "execution_count": null,
      "outputs": []
    }
  ]
}