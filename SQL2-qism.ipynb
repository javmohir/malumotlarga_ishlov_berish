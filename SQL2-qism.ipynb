{
  "nbformat": 4,
  "nbformat_minor": 0,
  "metadata": {
    "colab": {
      "private_outputs": true,
      "provenance": [],
      "authorship_tag": "ABX9TyMBonn91AMuvCoGzSMo5gre",
      "include_colab_link": true
    },
    "kernelspec": {
      "name": "python3",
      "display_name": "Python 3"
    },
    "language_info": {
      "name": "python"
    },
    "gpuClass": "standard"
  },
  "cells": [
    {
      "cell_type": "markdown",
      "metadata": {
        "id": "view-in-github",
        "colab_type": "text"
      },
      "source": [
        "<a href=\"https://colab.research.google.com/github/javmohir/malumotlarga_ishlov_berish/blob/main/SQL2-qism.ipynb\" target=\"_parent\"><img src=\"https://colab.research.google.com/assets/colab-badge.svg\" alt=\"Open In Colab\"/></a>"
      ]
    },
    {
      "cell_type": "code",
      "source": [
        "import pandas as pd\n",
        "import sqlite3 as sql"
      ],
      "metadata": {
        "id": "OfXnhxhlAGne"
      },
      "execution_count": null,
      "outputs": []
    },
    {
      "cell_type": "markdown",
      "source": [
        "Yangi ma'lumotlar omborini yaratamiz"
      ],
      "metadata": {
        "id": "zNoaRc-xA2YY"
      }
    },
    {
      "cell_type": "code",
      "source": [
        "db=sql.connect(\"newdb.db\")\n",
        "cursor=db.cursor()"
      ],
      "metadata": {
        "id": "IwdfkL9ZA8MB"
      },
      "execution_count": null,
      "outputs": []
    },
    {
      "cell_type": "markdown",
      "source": [
        "Ishlash uchun onlayndan jadval yuklab olamiz"
      ],
      "metadata": {
        "id": "-jldCzySBQKY"
      }
    },
    {
      "cell_type": "code",
      "source": [
        "df=pd.read_csv(\"https://raw.githubusercontent.com/anvarnarz/praktikum_datasets/main/Electricity_Production_By_Source.csv\")\n",
        "df"
      ],
      "metadata": {
        "id": "fJ-5uJelBI3S"
      },
      "execution_count": null,
      "outputs": []
    },
    {
      "cell_type": "markdown",
      "source": [
        "DFni omborga yuklashdan avval, kelin ustunlar nomini qisqartiraylik. Bunday qilishimizga sabab, keyinchalik SQL komandalar yozganda uzun nomlarni yozish o'ziga yarasha noqulayliklar keltirib chiqaradi.\n",
        "\n"
      ],
      "metadata": {
        "id": "zboOmIjqCCVX"
      }
    },
    {
      "cell_type": "code",
      "source": [
        "cols=['country','code','year','coal','gas','hydro','renewable_other','solar','oil','wind','nuclear']\n",
        "df.columns=cols\n",
        "df.head()"
      ],
      "metadata": {
        "id": "7Zd7sbOVBsy8"
      },
      "execution_count": null,
      "outputs": []
    },
    {
      "cell_type": "markdown",
      "source": [
        ".to_sql() metodi yordamida jadvalni to'g'ridan to'g'ri omborga ko'chirishimiz mumkin.\n",
        "\n",
        "Jadvalga jadval deb yangi nom beramiz.\n",
        "\n"
      ],
      "metadata": {
        "id": "s6F1lmNvCgo4"
      }
    },
    {
      "cell_type": "code",
      "source": [
        "df.to_sql('jadval',db)"
      ],
      "metadata": {
        "id": "Cur8jvutCVTr"
      },
      "execution_count": null,
      "outputs": []
    },
    {
      "cell_type": "markdown",
      "source": [
        "Jadvalni qaytib o'qiymiz"
      ],
      "metadata": {
        "id": "FKCONB-KCu7B"
      }
    },
    {
      "cell_type": "code",
      "source": [
        "query=\"SELECT * FROM jadval\"\n",
        "df2=pd.read_sql(query, db, index_col='index')"
      ],
      "metadata": {
        "id": "GBcXcG-nC0JN"
      },
      "execution_count": null,
      "outputs": []
    },
    {
      "cell_type": "code",
      "source": [
        "df2.head()"
      ],
      "metadata": {
        "id": "LsAHKk_UDO1g"
      },
      "execution_count": null,
      "outputs": []
    },
    {
      "cell_type": "code",
      "source": [
        "df2.info()"
      ],
      "metadata": {
        "id": "zbvJbcFcDdvo"
      },
      "execution_count": null,
      "outputs": []
    },
    {
      "cell_type": "code",
      "source": [
        "cursor.execute(\"SELECT name FROM sqlite_master WHERE type='table';\")\n",
        "print(cursor.fetchall())"
      ],
      "metadata": {
        "id": "FqxRpcu9DpMO"
      },
      "execution_count": null,
      "outputs": []
    },
    {
      "cell_type": "code",
      "source": [
        "cursor.execute(\"PRAGMA table_info(jadval);\")\n",
        "cursor.fetchall()"
      ],
      "metadata": {
        "id": "Q8AqjdEoGXx2"
      },
      "execution_count": null,
      "outputs": []
    },
    {
      "cell_type": "code",
      "source": [
        "query=\"SELECT * FROM jadval WHERE country='Uzbekistan';\"\n",
        "dfuz=pd.read_sql(query, db, index_col='index')\n",
        "dfuz"
      ],
      "metadata": {
        "id": "IalvJT4gG5uN"
      },
      "execution_count": null,
      "outputs": []
    },
    {
      "cell_type": "code",
      "source": [
        "dfuz.sort_values(by='year', ascending=False)"
      ],
      "metadata": {
        "id": "zAvsFbJeILQG"
      },
      "execution_count": null,
      "outputs": []
    },
    {
      "cell_type": "markdown",
      "source": [
        "Omborda bo'sh jadval yaratish\n",
        "Jadval yaratish qadamlari:\n",
        "\n",
        "CREATE TABLE - jadval yaratish buyrug'i\n",
        "IF NOT EXISTS - jadval mavjud bo'lmasa\n",
        "worldpop - jadval nomi\n",
        "Qavs ichida jadval ustunlari, ustundagi ma'lumot turi va qo'shimcha parametrlar vergul bilan ajratib yoziladi.\n",
        "Quyidagi misolada jadvalimiz 5 ta ustundan iborat:\n",
        "\n",
        "rank - davlat reytingi (zichlik bo'yicha),\n",
        "INT ya'ni butun son.\n",
        "country - davlat nomi,\n",
        " TEXT - matn,\n",
        " PRIMARY KEY - birlamchi qiymat, qatorga shu ustun qiymati bilan murojaat qilinadi (takrorlanman bo'lishi kerak)\n",
        "density - zichlik,\n",
        " DOUBLE - o'nlik son,\n",
        "population - aholi soni,\n",
        " NOT NULL - bo'sh bo'lmasligi (qiymat berilishi shart)\n",
        "area - maydoni,\n",
        "INT - butun son,\n",
        " NOT NULL - qiymat berilishi shart."
      ],
      "metadata": {
        "id": "e7hbBsTbXyH3"
      }
    },
    {
      "cell_type": "code",
      "source": [
        "query=\"\"\"\n",
        "CREATE TABLE IF NOT EXISTS worldpop(\n",
        "    rank INT,\n",
        "    country TEXT PRIMARY KEY,\n",
        "    dinsity DOUBLE,\n",
        "    population DOUBLE NOT NULL,\n",
        "    area INT NOT NULL\n",
        ");\n",
        "\"\"\"\n",
        "cursor.execute(query)\n",
        "db.commit()"
      ],
      "metadata": {
        "id": "0PLdpkriLpqi"
      },
      "execution_count": null,
      "outputs": []
    },
    {
      "cell_type": "code",
      "source": [
        "cursor.execute(\"SELECT name FROM sqlite_master WHERE type='table';\")\n",
        "print(cursor.fetchall())"
      ],
      "metadata": {
        "id": "Xj-LWgEfLCgo"
      },
      "execution_count": null,
      "outputs": []
    },
    {
      "cell_type": "code",
      "source": [
        "cursor.execute(\"PRAGMA table_info(worldpop);\")\n",
        "cursor.fetchall()"
      ],
      "metadata": {
        "id": "eR8d7hgwLim0"
      },
      "execution_count": null,
      "outputs": []
    },
    {
      "cell_type": "code",
      "source": [
        "query=\"SELECT * FROM worldpop\"\n",
        "df4=pd.read_sql(query, db)\n",
        "df4"
      ],
      "metadata": {
        "id": "kwmd9L_3QeNJ"
      },
      "execution_count": null,
      "outputs": []
    },
    {
      "cell_type": "markdown",
      "source": [
        "Jadvalga yangi ma'lumot qo'shish\n",
        "SQL jadvlaga ushbu manzilda joylashgan ma'lumotlarni kiritamiz: https://github.com/anvarnarz/praktikum_datasets/blob/main/world_population.csv"
      ],
      "metadata": {
        "id": "paJ-Az3hRJKC"
      }
    },
    {
      "cell_type": "code",
      "source": [
        "query=\"INSERT INTO worldpop VALUES (1, 'Macau', 21946.4667, 658.3940, 30)\"\n",
        "cursor.execute(query)\n",
        "db.commit()"
      ],
      "metadata": {
        "id": "6grlL97fSo0Y"
      },
      "execution_count": null,
      "outputs": []
    },
    {
      "cell_type": "code",
      "source": [
        "cursor.execute(\"SELECT * FROM worldpop\")\n",
        "cursor.fetchall()"
      ],
      "metadata": {
        "id": "O5OnXqyhTLFZ"
      },
      "execution_count": null,
      "outputs": []
    },
    {
      "cell_type": "code",
      "source": [
        "pd.read_sql(\"SELECT * FROM worldpop\", db, index_col='rank')"
      ],
      "metadata": {
        "id": "P3MFTTO-ApPH"
      },
      "execution_count": null,
      "outputs": []
    },
    {
      "cell_type": "code",
      "source": [
        "query = \"\"\"\n",
        "INSERT INTO worldpop (country,population,area)\n",
        "VALUES ('Uzbekistan', 33935.7630, 447400)\n",
        "\"\"\"\n",
        "cursor.execute(query)\n",
        "db.commit()"
      ],
      "metadata": {
        "id": "4FbHnLGITgvt"
      },
      "execution_count": null,
      "outputs": []
    },
    {
      "cell_type": "code",
      "source": [
        "query = 'UPDATE worldpop SET rank=133, dinsity=75.8511 WHERE country=\"Uzbekistan\"'\n",
        "cursor.execute(query)\n",
        "db.commit()"
      ],
      "metadata": {
        "id": "50W-vM5jXd5g"
      },
      "execution_count": null,
      "outputs": []
    },
    {
      "cell_type": "code",
      "source": [
        "pd.read_sql(\"SELECT * FROM worldpop\", db)"
      ],
      "metadata": {
        "id": "E65R22ERCd77"
      },
      "execution_count": null,
      "outputs": []
    },
    {
      "cell_type": "markdown",
      "source": [
        "Jadvaldan ma'lumot o'chirish"
      ],
      "metadata": {
        "id": "es-fMqWWctys"
      }
    },
    {
      "cell_type": "code",
      "source": [
        "query = 'DELETE FROM worldpop WHERE country=\"Macau\"'\n",
        "cursor.execute(query)\n",
        "db.commit()"
      ],
      "metadata": {
        "id": "rqfO_nTqavhU"
      },
      "execution_count": null,
      "outputs": []
    },
    {
      "cell_type": "code",
      "source": [
        "query='DELETE FROM worldpop WHERE country=\"Uzbekistan\"'\n",
        "cursor.execute(query)\n",
        "db.commit()"
      ],
      "metadata": {
        "id": "IYSABFWwbu0l"
      },
      "execution_count": null,
      "outputs": []
    },
    {
      "cell_type": "markdown",
      "source": [
        "tekshirib ko'ramiz."
      ],
      "metadata": {
        "id": "dZG5aL-Ycwns"
      }
    },
    {
      "cell_type": "code",
      "source": [
        "pd.read_sql(\"select * from worldpop\", db)"
      ],
      "metadata": {
        "id": "7t9dEvnHcFLf"
      },
      "execution_count": null,
      "outputs": []
    },
    {
      "cell_type": "markdown",
      "source": [
        "Jadvalni butunlay o'chirib tashlash"
      ],
      "metadata": {
        "id": "dJPmpNYlc86U"
      }
    },
    {
      "cell_type": "code",
      "source": [
        "cursor.execute(\"DROP TABLE worldpop\")\n",
        "db.commit()"
      ],
      "metadata": {
        "id": "rzUJARCHcVoU"
      },
      "execution_count": null,
      "outputs": []
    },
    {
      "cell_type": "code",
      "source": [
        "cursor.execute(\"SELECT name FROM sqlite_master WHERE type='table';\")\n",
        "cursor.fetchall()"
      ],
      "metadata": {
        "id": "uQqoqg0adwUe"
      },
      "execution_count": null,
      "outputs": []
    },
    {
      "cell_type": "markdown",
      "source": [
        "SQL buyruqlarni f-string yordamida yozish\n",
        "Biz yuqorida SQL buyruqlarni oddiy matn ko'rinishida yozayapamiz, demak Pythondagi f-string yordamida matnlarga o'zgaruvchilarning qiymatini ham qo'shish mumkin.\n",
        "\n",
        "Keling boshlanishiga quyidagi DF ni yaratib olamiz, so'ngra DF qatorlarini yangi SQL jadvalga f-string yordamida yozamiz."
      ],
      "metadata": {
        "id": "HtZvU75qOdmK"
      }
    },
    {
      "cell_type": "code",
      "source": [
        "df = pd.read_csv(\"https://github.com/anvarnarz/praktikum_datasets/raw/main/world_population.csv\", index_col='rank')\n",
        "df.head()"
      ],
      "metadata": {
        "id": "wvKaUwIRIDrC"
      },
      "execution_count": null,
      "outputs": []
    },
    {
      "cell_type": "code",
      "source": [
        "query=\"\"\"\n",
        "CREATE TABLE IF NOT EXISTS worldpop(\n",
        "rank INT,\n",
        "country TEXT PRIMARY KEY,\n",
        "density DOUBLE,\n",
        "population DOUBLE NOT NULL,\n",
        "area INT NOT NULL\n",
        ");\n",
        "\"\"\"\n",
        "cursor.execute(query)\n",
        "db.commit()"
      ],
      "metadata": {
        "id": "3op0GpOJIk9r"
      },
      "execution_count": null,
      "outputs": []
    },
    {
      "cell_type": "code",
      "source": [
        "uz=df[df.country==\"Uzbekistan\"]\n",
        "uz"
      ],
      "metadata": {
        "id": "Iwk-c-_iOAff"
      },
      "execution_count": null,
      "outputs": []
    },
    {
      "cell_type": "code",
      "source": [
        "rank = uz.index.values[0]\n",
        "country = uz.at[rank, 'country']\n",
        "density = uz.at[rank, 'density']\n",
        "population = uz.at[rank, 'pop2021']\n",
        "area = uz.at[rank, 'area']\n",
        "print(f\"{rank=}, {country=}, {density=}, {population=}, {area=}\")"
      ],
      "metadata": {
        "id": "sGGlg8a7O-rI"
      },
      "execution_count": null,
      "outputs": []
    },
    {
      "cell_type": "code",
      "source": [
        "query=f\"\"\"\n",
        "INSERT INTO worldpop VALUES({rank}, '{country}', {density}, {population}, {area})\n",
        "\"\"\"\n",
        "cursor.execute(query)\n",
        "db.commit()"
      ],
      "metadata": {
        "id": "-3YTRS_XVuit"
      },
      "execution_count": null,
      "outputs": []
    },
    {
      "cell_type": "code",
      "source": [
        "query=\"SELECT * FROM worldpop\"\n",
        "cursor.execute(query)\n",
        "cursor.fetchall()"
      ],
      "metadata": {
        "id": "nr1ToC3MWp04"
      },
      "execution_count": null,
      "outputs": []
    },
    {
      "cell_type": "code",
      "source": [
        "db.close()"
      ],
      "metadata": {
        "id": "wSTd59W3Xg2H"
      },
      "execution_count": null,
      "outputs": []
    },
    {
      "cell_type": "code",
      "source": [],
      "metadata": {
        "id": "_WBlheY8cVCh"
      },
      "execution_count": null,
      "outputs": []
    }
  ]
}