{
  "nbformat": 4,
  "nbformat_minor": 0,
  "metadata": {
    "colab": {
      "private_outputs": true,
      "provenance": [],
      "authorship_tag": "ABX9TyO1InieefBvoj4kV6N+0k3d",
      "include_colab_link": true
    },
    "kernelspec": {
      "name": "python3",
      "display_name": "Python 3"
    },
    "language_info": {
      "name": "python"
    },
    "gpuClass": "standard"
  },
  "cells": [
    {
      "cell_type": "markdown",
      "metadata": {
        "id": "view-in-github",
        "colab_type": "text"
      },
      "source": [
        "<a href=\"https://colab.research.google.com/github/javmohir/malumotlarga_ishlov_berish/blob/main/SQL_ombori_table_df.ipynb\" target=\"_parent\"><img src=\"https://colab.research.google.com/assets/colab-badge.svg\" alt=\"Open In Colab\"/></a>"
      ]
    },
    {
      "cell_type": "code",
      "source": [],
      "metadata": {
        "id": "fWaR4boTEVzX"
      },
      "execution_count": null,
      "outputs": []
    },
    {
      "cell_type": "markdown",
      "source": [
        "Ma'lumotlar ombori bilan ishlash\n",
        "Maʼlumotlar ombori (MO) bu – maʼlumotlarni saqlash, oʻqish, qayta ishlash va qidirish uchun moʻljallangan markaziy maʼlumotlar ombori. Turli dasturlar yaratar ekanmiz, dastur ishlashiga oid boʻlgan maʼlumotlarni u yoki bu koʻrinishda saqlashimiz kerak. Misol uchun dastur foydalanuvchilari va ularning shaxsiy maʼlumotlari, rasmlari, postlar, mahsulotlar va hokazo.\n",
        "\n",
        "Bu maʼlumotlarni qay koʻrinishda saqlash, turli maʼlumotlar oʻrtasidagi munosabatlar (foydalanuvchi-post, mijoz-mahsulot), bu maʼlumotlarga murojaat qilish va unumli foydalanish uchun MOni toʻgʻri loyihalash juda muhim ahamiyatga ega.\n",
        "\n",
        "Bugungi kunda maʼlumotlar bazasini boshqarish uchun turli tizimlar mavjud. Bulardan eng mashhurlari: MySQL, Oracle DB, PostgreSQL, MongoDB, SQLite Microsoft SQL server, IBM DB2.\n",
        "\n",
        "Ma'lumotlar omborida ma'lumotlar jadvallar ko'rinishida saqlanadi. Jadvallar u yoki bu ko'rinishda bir-biriga bog'langan bo'lishi mumkin:\n",
        "\n"
      ],
      "metadata": {
        "id": "M4GH4uHyEhDl"
      }
    },
    {
      "cell_type": "markdown",
      "source": [
        "SQL tili\n",
        "Ushbu darsimizda biz eng ken tarqalgan SQL (Structured Query Language) tili yordamida ma'lumotlar ombori bilan ishlashni o'rganamiz.\n",
        "\n",
        "Bu til yordamida MySQL, PostgreSQL, Sqlite kabi omborlar bilan ishlash mumkin.\n",
        "\n",
        "SQLning asosiy buyruqlari\n",
        "SELECT - MOdan ma'lumot olish\n",
        "UPDATE - MOdagi ma'lumotlarni yangilash\n",
        "DELETE - MOdan ma'lumot o'chirish\n",
        "INSERT INTO - MOga yangi ma'lumot qo'shish\n",
        "CREATE DATABASE - Yangi MO yaratish\n",
        "ALTER DATABASE - MOni o'zgartirish\n",
        "CREATE TABLE - Yangi jadval yaratish\n",
        "ALTER TABLE - Jadvalni o'zgartirish\n",
        "DROP TABLE - Jadvalni o'chirish\n",
        "CREATE INDEX - Indeks yaratish\n",
        "DROP INDEX - Indeks o'chirish"
      ],
      "metadata": {
        "id": "-RQ-7kGxElLO"
      }
    },
    {
      "cell_type": "markdown",
      "source": [
        "*SQL buyruqlari katta (SELECT) yoki kichik (select) yoki aralash (Select) harf bilan yozilishi mumkin\n",
        "\n",
        "Ushbu darsimizda biz Python bilan birga o'rnatiluvchi, faylli ma'lumotlar ombori Sqlite dan foydalanamiz. SQL buyruqlar barcha SQL turdagi omborlar uchun bir xil bo'lgani sabab, amaliyot uchun aynan qaysi turdagi ombordan foydalanish ahamiyatsiz.\n",
        "\n",
        "Agar sizning kompyuteringizda PostgreSQL ombori o'tnatilgan bo'lsa, quyida biz PostgreSQL omboriga ulanishni ko'rsatib o'tganmiz."
      ],
      "metadata": {
        "id": "KCJH4er4E7tg"
      }
    },
    {
      "cell_type": "markdown",
      "source": [
        "PostgreSQL bilan ishlash uchun psycopg2 kutubxonasini o'rnatamiz\n"
      ],
      "metadata": {
        "id": "68V60yaYFWUG"
      }
    },
    {
      "cell_type": "code",
      "source": [
        "# !pip install psycopg2-binary\n",
        "# import psycopg2 as psql\n"
      ],
      "metadata": {
        "id": "AryNuCTJEi1N"
      },
      "execution_count": null,
      "outputs": []
    },
    {
      "cell_type": "markdown",
      "source": [
        "PostgreSQL ga ulanish"
      ],
      "metadata": {
        "id": "uTbCXeNJFlJf"
      }
    },
    {
      "cell_type": "code",
      "source": [
        "# pdb = psql.connect(\n",
        "#     host = \"localhost\",\n",
        "#     database = \"postgres\",\n",
        "#     user = \"postgres\",\n",
        "#     password = \"PAROLINGIZ\"\n",
        "# )\n",
        "# cursor = pdb.cursor()\n",
        "# cursor.execute(\"SELECT version()\")\n",
        "# print(cursor.fetchone())"
      ],
      "metadata": {
        "id": "C8-OSfwHFdnu"
      },
      "execution_count": null,
      "outputs": []
    },
    {
      "cell_type": "markdown",
      "source": [
        "Darslarimizni esa Sqlite bilan ishlashda davom etamiz.\n",
        "\n",
        "Kerakli modullarni chaqirib olamiz\n"
      ],
      "metadata": {
        "id": "iLRu3HfsF6SO"
      }
    },
    {
      "cell_type": "code",
      "source": [
        "import pandas as pd\n",
        "import sqlite3 as sql\n",
        "from pprint import pprint as print # natijalarni chiroyli chiqarish uchun pprint modulidan foydalanamiz"
      ],
      "metadata": {
        "id": "gZsNf6sDFqim"
      },
      "execution_count": null,
      "outputs": []
    },
    {
      "cell_type": "code",
      "source": [
        "!wget \"https://www.sqlitetutorial.net/wp-content/uploads/2018/03/chinook.zip\"\n",
        "\n",
        "\n"
      ],
      "metadata": {
        "id": "8mJYxLCkT7YJ"
      },
      "execution_count": null,
      "outputs": []
    },
    {
      "cell_type": "code",
      "source": [
        "!unzip chinook.zip"
      ],
      "metadata": {
        "id": "u4ak2edDAcnr"
      },
      "execution_count": null,
      "outputs": []
    },
    {
      "cell_type": "code",
      "source": [
        "db=sql.connect(\"chinook.db\")\n",
        "cursor=db.cursor()"
      ],
      "metadata": {
        "id": "xEInG6FmUqod"
      },
      "execution_count": null,
      "outputs": []
    },
    {
      "cell_type": "code",
      "source": [
        "#cursor.execute(\"SELECT name FROM sqlite_master WHERE type='table';\")\n",
        "#print(cursor.fetchall())\n",
        "cursor.execute(\"SELECT name FROM sqlite_master WHERE type='table';\")\n",
        "print(cursor.fetchall())"
      ],
      "metadata": {
        "id": "Tnb6rhfLCWw7"
      },
      "execution_count": null,
      "outputs": []
    },
    {
      "cell_type": "code",
      "source": [
        "# customers jadvali qatorlar sonini ko'ramiz\n",
        "cursor.execute(\"SELECT COUNT (*) FROM customers\")\n",
        "cursor.fetchone()"
      ],
      "metadata": {
        "id": "fSt9J3c5Fbkr"
      },
      "execution_count": null,
      "outputs": []
    },
    {
      "cell_type": "code",
      "source": [
        "cursor.execute(\"SELECT COUNT (*) FROM artists\")\n",
        "cursor.fetchone()"
      ],
      "metadata": {
        "id": "Pg6ppGWJFa-0"
      },
      "execution_count": null,
      "outputs": []
    },
    {
      "cell_type": "code",
      "source": [
        "# customers jadvali ustunlarini ko'ramiz\n",
        "# PRAGMA buyrug'i Sqlitega xos\n",
        "cursor.execute(\"PRAGMA table_info(customers)\")\n",
        "cursor.fetchall()"
      ],
      "metadata": {
        "id": "HkrUglXTHnC0"
      },
      "execution_count": null,
      "outputs": []
    },
    {
      "cell_type": "code",
      "source": [
        "cursor.execute(\"SELECT *  FROM Customers\")\n",
        "cursor.fetchall()"
      ],
      "metadata": {
        "id": "wNtYo5fPNt1B"
      },
      "execution_count": null,
      "outputs": []
    },
    {
      "cell_type": "code",
      "source": [
        "df=pd.read_sql(\"SELECT * FROM customers LIMIT 10\", db, index_col='CustomerId') #  CustomerId ustunidan DF Indeksi sifatida foydalanamiz\n",
        "df"
      ],
      "metadata": {
        "id": "0JczXxYkPEmk"
      },
      "execution_count": null,
      "outputs": []
    },
    {
      "cell_type": "code",
      "source": [
        "query = \"SELECT * FROM customers LIMIT 5\"\n",
        "df = pd.read_sql(query, db, index_col=\"CustomerId\") # CustomerId ustunidan DF Indeksi sifatida foydalanamiz\n",
        "df"
      ],
      "metadata": {
        "id": "nfNQuLPpAQpn"
      },
      "execution_count": null,
      "outputs": []
    },
    {
      "cell_type": "code",
      "source": [
        "query = \"SELECT * FROM artists LIMIT 20\"\n",
        "df1=pd.read_sql(query, db, index_col='ArtistId')\n",
        "df1"
      ],
      "metadata": {
        "id": "_yjEXy2LB8Hm"
      },
      "execution_count": null,
      "outputs": []
    },
    {
      "cell_type": "code",
      "source": [
        "df=pd.read_sql(\"SELECT CustomerId, FirstName, LastName,Phone, Country  FROM customers \", db, index_col='CustomerId') #  CustomerId ustunidan DF Indeksi sifatida foydalanamiz\n",
        "df"
      ],
      "metadata": {
        "id": "37kkCpBlDX7p"
      },
      "execution_count": null,
      "outputs": []
    }
  ]
}