{
  "nbformat": 4,
  "nbformat_minor": 0,
  "metadata": {
    "colab": {
      "private_outputs": true,
      "provenance": [],
      "authorship_tag": "ABX9TyMhRgYYwPr62lhOF6LVmirb",
      "include_colab_link": true
    },
    "kernelspec": {
      "name": "python3",
      "display_name": "Python 3"
    },
    "language_info": {
      "name": "python"
    },
    "gpuClass": "standard"
  },
  "cells": [
    {
      "cell_type": "markdown",
      "metadata": {
        "id": "view-in-github",
        "colab_type": "text"
      },
      "source": [
        "<a href=\"https://colab.research.google.com/github/javmohir/malumotlarga_ishlov_berish/blob/main/cut_qcut_grouping.ipynb\" target=\"_parent\"><img src=\"https://colab.research.google.com/assets/colab-badge.svg\" alt=\"Open In Colab\"/></a>"
      ]
    },
    {
      "cell_type": "code",
      "source": [
        "import pandas as pd"
      ],
      "metadata": {
        "id": "xS8YEUsXmCfk"
      },
      "execution_count": null,
      "outputs": []
    },
    {
      "cell_type": "markdown",
      "source": [
        "Guruhlash\n",
        "Guruhlashning vazifasi ma'lumotlarni tahlil qilish uchun biror ustun qiymatlarini berilgan oraliqlarga (guruhlarga) tushurib olish.\n",
        "\n",
        "Misol uchun, sizda foydalanuvchilar haqida ma'lumotlar jamlangan va u yerda har bir foydalanuvchining yoshi ham ko'rsatilgan. Siz foydalanuvchilarni qaysi yosh oralig'ida ekanini (qaysi guruhga tegishli ekanini) ko'rmoqchisiz:"
      ],
      "metadata": {
        "id": "CWgK6Ed-yMu-"
      }
    },
    {
      "cell_type": "markdown",
      "source": [],
      "metadata": {
        "id": "51EvP30LyUaN"
      }
    },
    {
      "cell_type": "code",
      "source": [
        "df = pd.read_csv('https://raw.githubusercontent.com/anvarnarz/praktikum_datasets/main/world_population_duplicates.csv', usecols=['country','pop2021','area'], index_col='country')\n",
        "df.head()"
      ],
      "metadata": {
        "id": "h5iJLYc1yZiV"
      },
      "execution_count": null,
      "outputs": []
    },
    {
      "cell_type": "code",
      "source": [
        "df.drop_duplicates(inplace=True)"
      ],
      "metadata": {
        "id": "IxdDE8-yyaVl"
      },
      "execution_count": null,
      "outputs": []
    },
    {
      "cell_type": "code",
      "source": [
        "df.head()"
      ],
      "metadata": {
        "id": "jSeS_ItNysCD"
      },
      "execution_count": null,
      "outputs": []
    },
    {
      "cell_type": "markdown",
      "source": [
        "Tartiblab olamiz:"
      ],
      "metadata": {
        "id": "K1BgkMVrzCnO"
      }
    },
    {
      "cell_type": "code",
      "source": [
        "df.sort_index(inplace=True)"
      ],
      "metadata": {
        "id": "FWfbvF0By88P"
      },
      "execution_count": null,
      "outputs": []
    },
    {
      "cell_type": "code",
      "source": [
        "df.head()"
      ],
      "metadata": {
        "id": "801wSmVizIfn"
      },
      "execution_count": null,
      "outputs": []
    },
    {
      "cell_type": "markdown",
      "source": [
        "Keling ba'zi davlatlar aholisini ham chiqarib ko'ramiz:"
      ],
      "metadata": {
        "id": "0bignGRkzQpk"
      }
    },
    {
      "cell_type": "code",
      "source": [
        "df.loc['China']"
      ],
      "metadata": {
        "id": "i9R9ysJ1zMpz"
      },
      "execution_count": null,
      "outputs": []
    },
    {
      "cell_type": "code",
      "source": [
        "df.loc['Uzbekistan']"
      ],
      "metadata": {
        "id": "WYOnHjOHzWP8"
      },
      "execution_count": null,
      "outputs": []
    },
    {
      "cell_type": "markdown",
      "source": [
        "Ahamiyat bering, aholi soni minglarda berilgan, bu degani aniq qiymatni topish uchun ko'rsatilgan qiymatni 1000 ga ko'paytirasiz. Ya'ni, O'zbekiston aholisi 33935 ko'rsatilgan, demak aholi soni 33935x1000=33milloin 935ming\n",
        "\n",
        "Keling, quyidagi oraliqlarda nechtadan davlat borligini tahlil qilamiz:\n",
        "\n",
        "1 milliongacha (0-1000)\n",
        "1-10mln oraqlida (1000-10000)\n",
        "10-30mln oraliqda (10000-30000)\n",
        "30-50mln oraliqda (30000-50000)\n",
        "50-100mln (50000-10000)\n",
        "100-300mln (100000-300000)\n",
        "300mln-1.5mlrd (300000-1500000)\n",
        "Buning uchun quydagi bin (nuqtalarni) yaratib olamiz:"
      ],
      "metadata": {
        "id": "_ICmS6HWzo5V"
      }
    },
    {
      "cell_type": "code",
      "source": [
        "binc=[0, 1000, 10000, 30000, 50000, 100000, 300000, 1500000]"
      ],
      "metadata": {
        "id": "bEzZynT2zuq7"
      },
      "execution_count": null,
      "outputs": []
    },
    {
      "cell_type": "markdown",
      "source": [
        "Aholi sonini ham alohida ajratib olamiz:"
      ],
      "metadata": {
        "id": "Z27Qf1Qc0EM-"
      }
    },
    {
      "cell_type": "code",
      "source": [
        "population=df.pop2021"
      ],
      "metadata": {
        "id": "vOYe2aZk0H3n"
      },
      "execution_count": null,
      "outputs": []
    },
    {
      "cell_type": "code",
      "source": [
        "population.head()"
      ],
      "metadata": {
        "id": "kWlxjda70BN8"
      },
      "execution_count": null,
      "outputs": []
    },
    {
      "cell_type": "markdown",
      "source": [
        "population va bins ni jamlaymiz:"
      ],
      "metadata": {
        "id": "yh9ZxARk1tuG"
      }
    },
    {
      "cell_type": "code",
      "source": [
        "oraliq=pd.cut(population, binc)"
      ],
      "metadata": {
        "id": "otBcmLHz0Xbs"
      },
      "execution_count": null,
      "outputs": []
    },
    {
      "cell_type": "code",
      "source": [
        "oraliq"
      ],
      "metadata": {
        "id": "iWsXT0i52MJu"
      },
      "execution_count": null,
      "outputs": []
    },
    {
      "cell_type": "markdown",
      "source": [
        "Ko'rib turganingizdek, yangi o'zgaruvchi davlatlar qaysi oraliqqa tushishini ko'rsatayapti.\n",
        "\n",
        "Oraliqlarni chiqarish uchun .categories parametriga murojaat qilamiz:\n",
        "\n",
        "Oraliqlardagi davlatlar sonini ko'rish uchun .value_counts() metodiga muorjaat qilamiz:"
      ],
      "metadata": {
        "id": "m8qOpFAn2P1F"
      }
    },
    {
      "cell_type": "code",
      "source": [
        "oraliq.value_counts()"
      ],
      "metadata": {
        "id": "mCy2dkkk21vk"
      },
      "execution_count": null,
      "outputs": []
    },
    {
      "cell_type": "markdown",
      "source": [
        "Istasangiz, oraliq obyektini df ga ham qo'shib qo'yishingiz mumkin:\n",
        "\n"
      ],
      "metadata": {
        "id": "MTdz6UQA3Man"
      }
    },
    {
      "cell_type": "code",
      "source": [
        "df['Popbinc']=oraliq"
      ],
      "metadata": {
        "id": "xkJRerKu29kH"
      },
      "execution_count": null,
      "outputs": []
    },
    {
      "cell_type": "code",
      "source": [
        "df.head()"
      ],
      "metadata": {
        "id": "Lf4Og7h53fSI"
      },
      "execution_count": null,
      "outputs": []
    },
    {
      "cell_type": "markdown",
      "source": [
        "Yana bir misol ko'ramiz:"
      ],
      "metadata": {
        "id": "K89stJLz3eYM"
      }
    },
    {
      "cell_type": "code",
      "source": [
        "df1 = pd.read_csv(\"https://github.com/anvarnarz/praktikum_datasets/raw/main/automobile_data.csv\", index_col=0)\n",
        "df1.head()"
      ],
      "metadata": {
        "id": "wwtfFKYE3iMu"
      },
      "execution_count": null,
      "outputs": []
    },
    {
      "cell_type": "markdown",
      "source": [
        "Yuqoridagi jadvalda turli avtolarning narxi ko'rsatilgan, keling ularni ham oraliqlarga bo'lamiz. Avval eng arzon va qimmat mashinalarni ajratib olaylik:"
      ],
      "metadata": {
        "id": "xtrSKk5v5IsD"
      }
    },
    {
      "cell_type": "code",
      "source": [
        "df1.price.describe()"
      ],
      "metadata": {
        "id": "XeTqPXAE5IVj"
      },
      "execution_count": null,
      "outputs": []
    },
    {
      "cell_type": "code",
      "source": [
        "bins = [0, 10000, 20000, 50000]"
      ],
      "metadata": {
        "id": "_VowRWoc5mJc"
      },
      "execution_count": null,
      "outputs": []
    },
    {
      "cell_type": "code",
      "source": [
        "renga=pd.cut(df1.price,bins)"
      ],
      "metadata": {
        "id": "WmQH9DCC5zDi"
      },
      "execution_count": null,
      "outputs": []
    },
    {
      "cell_type": "code",
      "source": [
        "renga"
      ],
      "metadata": {
        "id": "imI5SyZ97I7c"
      },
      "execution_count": null,
      "outputs": []
    },
    {
      "cell_type": "code",
      "source": [
        "renga.value_counts()"
      ],
      "metadata": {
        "id": "y_zwy1nw590l"
      },
      "execution_count": null,
      "outputs": []
    },
    {
      "cell_type": "markdown",
      "source": [
        "Tushunarli bo'lishi uchun biz bu oraliqlarga nom ham berishimiz mumkin:"
      ],
      "metadata": {
        "id": "icl3IxE77Qf1"
      }
    },
    {
      "cell_type": "code",
      "source": [
        "grops=[\"arzon\", \"o'rta\", \"qimmat\"]\n",
        "renga=pd.cut(df1.price,bins,labels=grops)\n",
        "renga.value_counts()"
      ],
      "metadata": {
        "id": "jwlrRWMh64ZZ"
      },
      "execution_count": null,
      "outputs": []
    },
    {
      "cell_type": "markdown",
      "source": [
        "Yuqorida misollarda biz bins nomli o'zgaruvchi yaratib oldik va guruhlarga o'zimiz ajratdik. Agar bu jarayonni avtomatlashtirishni istasangiz, bins ro'yxati o'rtniga nechta guruh kerak ekanligini ko'rsatsangiz kifoya:"
      ],
      "metadata": {
        "id": "lME-iyU374qr"
      }
    },
    {
      "cell_type": "code",
      "source": [
        "renga=pd.cut(df1.price,3)\n",
        "renga.value_counts()"
      ],
      "metadata": {
        "id": "8sSyuP3x7yrD"
      },
      "execution_count": null,
      "outputs": []
    },
    {
      "cell_type": "markdown",
      "source": [
        "Ko'rib turganingizdek, yuqorida biz qiymatlarni 3 ta guruhga ajratishni so'radik va biznkidan farqli natijani oldik."
      ],
      "metadata": {
        "id": "oMSFtNsq_NcK"
      }
    },
    {
      "cell_type": "code",
      "source": [
        "renga=pd.cut(df1.price,4)\n",
        "renga.value_counts()"
      ],
      "metadata": {
        "id": "e4or1myJ_CdK"
      },
      "execution_count": null,
      "outputs": []
    },
    {
      "cell_type": "markdown",
      "source": [
        "Agar sizga qiymatlarni teng a'zolardan iborat guruhga ajratish talab qilinsa, .qcut() metodiga murojaat qilasiz:\n",
        "\n"
      ],
      "metadata": {
        "id": "Wh4FHFzUFBKU"
      }
    },
    {
      "cell_type": "code",
      "source": [
        "renga=pd.qcut(df1.price,3)\n",
        "renga.value_counts()"
      ],
      "metadata": {
        "id": "BuhpWIvLAhIV"
      },
      "execution_count": null,
      "outputs": []
    },
    {
      "cell_type": "code",
      "source": [
        "renga=pd.qcut(df1.horsepower,3)\n",
        "renga.value_counts()"
      ],
      "metadata": {
        "id": "9NMFUe3oFTN0"
      },
      "execution_count": null,
      "outputs": []
    }
  ]
}