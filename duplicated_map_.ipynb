{
  "nbformat": 4,
  "nbformat_minor": 0,
  "metadata": {
    "colab": {
      "private_outputs": true,
      "provenance": [],
      "authorship_tag": "ABX9TyP3P2N9hleK4efzgFkjLR0y",
      "include_colab_link": true
    },
    "kernelspec": {
      "name": "python3",
      "display_name": "Python 3"
    },
    "language_info": {
      "name": "python"
    },
    "gpuClass": "standard"
  },
  "cells": [
    {
      "cell_type": "markdown",
      "metadata": {
        "id": "view-in-github",
        "colab_type": "text"
      },
      "source": [
        "<a href=\"https://colab.research.google.com/github/javmohir/malumotlarga_ishlov_berish/blob/main/duplicated_map_.ipynb\" target=\"_parent\"><img src=\"https://colab.research.google.com/assets/colab-badge.svg\" alt=\"Open In Colab\"/></a>"
      ]
    },
    {
      "cell_type": "code",
      "source": [
        "import pandas as pd"
      ],
      "metadata": {
        "id": "OS-YJSMhcl-D"
      },
      "execution_count": null,
      "outputs": []
    },
    {
      "cell_type": "markdown",
      "source": [
        "Takrorlangan qatorlarni o'chirish.\n",
        "Turli sabablarga ko'ra jadvalimizda ba'zi qatorlar takrorlanishi mumkin, bunday qatorlarni o'chirib tashlash tavsiya qilinadi."
      ],
      "metadata": {
        "id": "XbFLFaA2cnT8"
      }
    },
    {
      "cell_type": "code",
      "source": [
        "df = pd.read_csv('https://raw.githubusercontent.com/anvarnarz/praktikum_datasets/main/world_population_duplicates.csv')\n",
        "df.head()"
      ],
      "metadata": {
        "id": "MqdtqSGAcqZD"
      },
      "execution_count": null,
      "outputs": []
    },
    {
      "cell_type": "markdown",
      "source": [
        "Avval qator takroriy ekanini tekshirish uchun .duplicated() metodiga muorjaat qilamiz. Bunday takroriy qatorlar True, takrorlanmagan qatorlar False qiymatinin qaytaradi."
      ],
      "metadata": {
        "id": "oFp6XH2Fcx97"
      }
    },
    {
      "cell_type": "code",
      "source": [
        "df.duplicated()"
      ],
      "metadata": {
        "id": "f0EP-_APdF3x"
      },
      "execution_count": null,
      "outputs": []
    },
    {
      "cell_type": "markdown",
      "source": [
        "\n",
        "sum() funksiyasi yordamida jami takrorlangan qatorlar sonini ko'rishimiz mumkin:"
      ],
      "metadata": {
        "id": "HWphU3v6dRNz"
      }
    },
    {
      "cell_type": "code",
      "source": [
        "df.duplicated().sum() # yoki sum(df.duplicated())"
      ],
      "metadata": {
        "id": "wj8pG0_qcy38"
      },
      "execution_count": null,
      "outputs": []
    },
    {
      "cell_type": "markdown",
      "source": [
        "Jami qatorlar soni:"
      ],
      "metadata": {
        "id": "ne2Wj8MWdiNm"
      }
    },
    {
      "cell_type": "code",
      "source": [
        "df.shape"
      ],
      "metadata": {
        "id": "p4Y8n8oCc9Tc"
      },
      "execution_count": null,
      "outputs": []
    },
    {
      "cell_type": "markdown",
      "source": [
        "Takrorlangan qatorlarni tashlab yuboramiz:"
      ],
      "metadata": {
        "id": "98G-fZLjdrio"
      }
    },
    {
      "cell_type": "code",
      "source": [
        "df.drop_duplicates()"
      ],
      "metadata": {
        "id": "_iQ6180fdkcb"
      },
      "execution_count": null,
      "outputs": []
    },
    {
      "cell_type": "markdown",
      "source": [
        "Takroriy qiymatlarni butun jadval bo'yicha emas, ma'lum bir ustun bo'yicha ham topib o'chirish mumkin. Misol uchun, yuqoridagi jadvlada davlat nomi (country) yoki reytingi (rank) bo'yicha qidirish kifoya:"
      ],
      "metadata": {
        "id": "QCLAfV0TeFjC"
      }
    },
    {
      "cell_type": "code",
      "source": [
        "df.drop_duplicates(['country'])"
      ],
      "metadata": {
        "id": "blytgBordywu"
      },
      "execution_count": null,
      "outputs": []
    },
    {
      "cell_type": "code",
      "source": [
        "df.drop_duplicates(['country','rank'])"
      ],
      "metadata": {
        "id": "0Ey0QfXUeMld"
      },
      "execution_count": null,
      "outputs": []
    },
    {
      "cell_type": "markdown",
      "source": [
        "Yuqoridagi o'zgarishlarni saqlab qolish uchun har doimgidek inplace=True parametridan foydalanishingiz mumkin.\n",
        "\n",
        ".map() metodi yordamida qiymatlarni almashtirish"
      ],
      "metadata": {
        "id": "JODI_U-seshB"
      }
    },
    {
      "cell_type": "markdown",
      "source": [
        "Ushbu metod yordamida biz qatorlardagi qiymatlarni ma'lumo qoida bo'yicha o'zgartirishimiz mumkin.\n",
        "\n",
        "Quyidagi jadvalni olaylik:"
      ],
      "metadata": {
        "id": "hPSZ2pVheuTR"
      }
    },
    {
      "cell_type": "code",
      "source": [
        "df = pd.read_csv(\"https://github.com/anvarnarz/praktikum_datasets/raw/main/automobile_data_nan.csv\", index_col=0)\n",
        "df.head()"
      ],
      "metadata": {
        "id": "oveHxKVoekGT"
      },
      "execution_count": null,
      "outputs": []
    },
    {
      "cell_type": "markdown",
      "source": [
        "num-of-cylinders ustunida qiymatlar son emas harf bilan yozilga. Keling shu qiymatlarni songa o'zgartiramiz.\n",
        "\n",
        "Avvalo bu ustundagi barcha mavjud qiymatlarni ko'raylik:"
      ],
      "metadata": {
        "id": "AmmjbKsGfFAW"
      }
    },
    {
      "cell_type": "code",
      "source": [
        "df['num-of-cylinders'].unique()"
      ],
      "metadata": {
        "id": "MiXHO90ffBJC"
      },
      "execution_count": null,
      "outputs": []
    },
    {
      "cell_type": "markdown",
      "source": [
        "Keling endi yuqoridagi qiymatlar uchun dictionary obyekti yaratamiz:"
      ],
      "metadata": {
        "id": "4_7yl4MifVLK"
      }
    },
    {
      "cell_type": "code",
      "source": [
        "dict={'two':2, 'three':3, 'four':4, 'five':5, 'six':6, 'eight':8, 'twelve':12}"
      ],
      "metadata": {
        "id": "bPc4XUatfPx_"
      },
      "execution_count": null,
      "outputs": []
    },
    {
      "cell_type": "markdown",
      "source": [
        ".map() yordamida yuqoridagi qiymatlarni df ga yangi cylinders deb nomlangan ustun ko'rinishida qo'shamiz:"
      ],
      "metadata": {
        "id": "8yZNo_a4fk_1"
      }
    },
    {
      "cell_type": "code",
      "source": [
        "df['cylinders']=df['num-of-cylinders'].map(dict)"
      ],
      "metadata": {
        "id": "3AH5d8k0fdw0"
      },
      "execution_count": null,
      "outputs": []
    },
    {
      "cell_type": "code",
      "source": [
        "df.head()"
      ],
      "metadata": {
        "id": "3TQfzr56f2or"
      },
      "execution_count": null,
      "outputs": []
    },
    {
      "cell_type": "markdown",
      "source": [
        "Oxirgi ustunga ahamiyat bering. Keling avvalgi va yangi ustunlarni yonma-yon chiqaramiz:\n",
        "\n"
      ],
      "metadata": {
        "id": "hKKH3rkOgGoj"
      }
    },
    {
      "cell_type": "code",
      "source": [
        "df[['num-of-cylinders','cylinders']]"
      ],
      "metadata": {
        "id": "aYHBjJMMf7L4"
      },
      "execution_count": null,
      "outputs": []
    },
    {
      "cell_type": "markdown",
      "source": [
        ".map() yordamida ustun qiymatlariga boshqa funksiyalarni ham qo'llash mumkin. Misol uchun, keling mashina narxlarini so'mdagi qiymatini topamiz:"
      ],
      "metadata": {
        "id": "gxPSkfYzgZrr"
      }
    },
    {
      "cell_type": "code",
      "source": [
        "kurs=10720 # 1$=10720 so'm\n",
        "df.price.map(lambda x: x*kurs)"
      ],
      "metadata": {
        "id": "SfqKEbXEgai_"
      },
      "execution_count": null,
      "outputs": []
    },
    {
      "cell_type": "code",
      "source": [
        "df['price_uz']=df['price'].map(lambda x: x*kurs)\n",
        "df.head()"
      ],
      "metadata": {
        "id": "z-Zcuv85g2Dr"
      },
      "execution_count": null,
      "outputs": []
    }
  ]
}