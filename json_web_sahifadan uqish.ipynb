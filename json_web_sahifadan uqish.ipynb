{
  "nbformat": 4,
  "nbformat_minor": 0,
  "metadata": {
    "colab": {
      "private_outputs": true,
      "provenance": [],
      "authorship_tag": "ABX9TyPY67VVSKvUdLDsaUw8SwVm",
      "include_colab_link": true
    },
    "kernelspec": {
      "name": "python3",
      "display_name": "Python 3"
    },
    "language_info": {
      "name": "python"
    },
    "gpuClass": "standard"
  },
  "cells": [
    {
      "cell_type": "markdown",
      "metadata": {
        "id": "view-in-github",
        "colab_type": "text"
      },
      "source": [
        "<a href=\"https://colab.research.google.com/github/javmohir/malumotlarga_ishlov_berish/blob/main/json_web_sahifadan%20uqish.ipynb\" target=\"_parent\"><img src=\"https://colab.research.google.com/assets/colab-badge.svg\" alt=\"Open In Colab\"/></a>"
      ]
    },
    {
      "cell_type": "code",
      "source": [
        "import pandas as pd\n",
        "import numpy as np"
      ],
      "metadata": {
        "id": "LJfSoPue3cfP"
      },
      "execution_count": null,
      "outputs": []
    },
    {
      "cell_type": "markdown",
      "source": [
        "Web sahifalardagi malumotlarni o'qish"
      ],
      "metadata": {
        "id": "Hc2d7cM25bT9"
      }
    },
    {
      "cell_type": "code",
      "source": [
        "tashkent=pd.read_html(\"https://en.wikipedia.org/wiki/Tashkent\")\n"
      ],
      "metadata": {
        "id": "JHFNBmGX5j9c"
      },
      "execution_count": null,
      "outputs": []
    },
    {
      "cell_type": "code",
      "source": [
        "len(tashkent)"
      ],
      "metadata": {
        "id": "shzL4FlC_drL"
      },
      "execution_count": null,
      "outputs": []
    },
    {
      "cell_type": "code",
      "source": [
        "tashkent[2]"
      ],
      "metadata": {
        "id": "hOR3rurf_wvr"
      },
      "execution_count": null,
      "outputs": []
    },
    {
      "cell_type": "code",
      "source": [
        "tashkent[3]"
      ],
      "metadata": {
        "id": "_kWcgqpc_yw4"
      },
      "execution_count": null,
      "outputs": []
    },
    {
      "cell_type": "code",
      "source": [
        "tashkent[5]"
      ],
      "metadata": {
        "id": "AuC4W01oAEnr"
      },
      "execution_count": null,
      "outputs": []
    },
    {
      "cell_type": "code",
      "source": [
        "\n",
        "pd.read_json(\"sample_data/anscombe.json\")"
      ],
      "metadata": {
        "id": "BrLmDHzpAPOA"
      },
      "execution_count": null,
      "outputs": []
    },
    {
      "cell_type": "markdown",
      "source": [
        "JSON format\n"
      ],
      "metadata": {
        "id": "p2C44oM1B0U_"
      }
    },
    {
      "cell_type": "markdown",
      "source": [
        "JSON web orqali ma'lumotlarni uzatishda ishlatiluvchi eng mashhur formatlardan. JSON haqida Dasturlash Asoslari darsimizda batafsil ma'lumot berilgan: https://python.sariq.dev/files-exceptions/34-json"
      ],
      "metadata": {
        "id": "-SpNirjOB19P"
      }
    },
    {
      "cell_type": "code",
      "source": [
        "pd.read_json(\"/content/sample_data/anscombe.json\")"
      ],
      "metadata": {
        "id": "kGkgKSYYBrvh"
      },
      "execution_count": null,
      "outputs": []
    },
    {
      "cell_type": "code",
      "source": [
        "import requests, json\n",
        "r=requests.get('http://api.nobelprize.org/v1/laureate.json')\n",
        "data=r.json()\n",
        "# data['laureates']\n",
        "pd.DataFrame(data['laureates'])"
      ],
      "metadata": {
        "id": "Gm-FFHp-CdoZ"
      },
      "execution_count": null,
      "outputs": []
    },
    {
      "cell_type": "code",
      "source": [
        "r=requests.get(\"https://openlibrary.org/subjects/python.json?published_in=2015-2021\")\n",
        "pd.DataFrame(r.json()['works'])"
      ],
      "metadata": {
        "id": "N5pRUa3wDDMd"
      },
      "execution_count": null,
      "outputs": []
    },
    {
      "cell_type": "code",
      "source": [],
      "metadata": {
        "id": "3BwRAbNJDv5j"
      },
      "execution_count": null,
      "outputs": []
    }
  ]
}